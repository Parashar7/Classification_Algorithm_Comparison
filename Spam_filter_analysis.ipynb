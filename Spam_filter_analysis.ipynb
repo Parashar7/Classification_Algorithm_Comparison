{
  "nbformat": 4,
  "nbformat_minor": 0,
  "metadata": {
    "colab": {
      "name": "Spam_filter_analysis.ipynb",
      "provenance": [],
      "collapsed_sections": [
        "viDoNAo3aTdk",
        "h0JFFH1ibMOr"
      ]
    },
    "kernelspec": {
      "name": "python3",
      "display_name": "Python 3"
    },
    "language_info": {
      "name": "python"
    }
  },
  "cells": [
    {
      "cell_type": "markdown",
      "source": [
        "# Spam Filtering Comparative Analysis"
      ],
      "metadata": {
        "id": "b5CctyeVZ-7E"
      }
    },
    {
      "cell_type": "markdown",
      "source": [
        "# Problem Statement\n",
        "\n",
        "Execute a comparative performance analysis of Naive Bayes, SVC(Support Vector Machine), and Random Forest(Bagging) algorithms for Spam Filtering."
      ],
      "metadata": {
        "id": "xJAekMdba45_"
      }
    },
    {
      "cell_type": "markdown",
      "source": [
        "# Importation of file"
      ],
      "metadata": {
        "id": "viDoNAo3aTdk"
      }
    },
    {
      "cell_type": "code",
      "execution_count": null,
      "metadata": {
        "id": "26a97PFPU5qN"
      },
      "outputs": [],
      "source": [
        "import pandas as pd\n",
        "import numpy as np\n",
        "spam = pd.read_csv('emails.csv')"
      ]
    },
    {
      "cell_type": "markdown",
      "source": [
        "# Exploring the dataset"
      ],
      "metadata": {
        "id": "h0JFFH1ibMOr"
      }
    },
    {
      "cell_type": "code",
      "source": [
        "print(spam.head(10))\n",
        "print('\\n')\n",
        "print(spam.columns)\n",
        "print('\\n')\n",
        "print(spam.info())\n",
        "print('\\n')\n",
        "# print(spam.describe())\n",
        "print('Shape of dataset', spam.shape)\n",
        "print('\\n')\n",
        "print(spam.isnull().sum())\n",
        "print('\\n')\n",
        "# print(spam.corr())"
      ],
      "metadata": {
        "colab": {
          "base_uri": "https://localhost:8080/"
        },
        "id": "esGkxpkTbO_F",
        "outputId": "73da4cdd-9ac4-427b-b269-cf3e0ebcabdd"
      },
      "execution_count": null,
      "outputs": [
        {
          "output_type": "stream",
          "name": "stdout",
          "text": [
            "  Email No.  the  to  ect  and  for  of    a  you  hou  ...  connevey  jay  \\\n",
            "0   Email 1    0   0    1    0    0   0    2    0    0  ...         0    0   \n",
            "1   Email 2    8  13   24    6    6   2  102    1   27  ...         0    0   \n",
            "2   Email 3    0   0    1    0    0   0    8    0    0  ...         0    0   \n",
            "3   Email 4    0   5   22    0    5   1   51    2   10  ...         0    0   \n",
            "4   Email 5    7   6   17    1    5   2   57    0    9  ...         0    0   \n",
            "5   Email 6    4   5    1    4    2   3   45    1    0  ...         0    0   \n",
            "6   Email 7    5   3    1    3    2   1   37    0    0  ...         0    0   \n",
            "7   Email 8    0   2    2    3    1   2   21    6    0  ...         0    0   \n",
            "8   Email 9    2   2    3    0    0   1   18    0    0  ...         0    0   \n",
            "9  Email 10    4   4   35    0    1   0   49    1   16  ...         0    0   \n",
            "\n",
            "   valued  lay  infrastructure  military  allowing  ff  dry  Prediction  \n",
            "0       0    0               0         0         0   0    0           0  \n",
            "1       0    0               0         0         0   1    0           0  \n",
            "2       0    0               0         0         0   0    0           0  \n",
            "3       0    0               0         0         0   0    0           0  \n",
            "4       0    0               0         0         0   1    0           0  \n",
            "5       0    0               0         0         0   0    0           1  \n",
            "6       0    0               0         0         0   0    0           0  \n",
            "7       0    0               0         0         0   1    0           1  \n",
            "8       0    0               0         0         0   0    0           0  \n",
            "9       0    0               0         0         0   0    0           0  \n",
            "\n",
            "[10 rows x 3002 columns]\n",
            "\n",
            "\n",
            "Index(['Email No.', 'the', 'to', 'ect', 'and', 'for', 'of', 'a', 'you', 'hou',\n",
            "       ...\n",
            "       'connevey', 'jay', 'valued', 'lay', 'infrastructure', 'military',\n",
            "       'allowing', 'ff', 'dry', 'Prediction'],\n",
            "      dtype='object', length=3002)\n",
            "\n",
            "\n",
            "<class 'pandas.core.frame.DataFrame'>\n",
            "RangeIndex: 5172 entries, 0 to 5171\n",
            "Columns: 3002 entries, Email No. to Prediction\n",
            "dtypes: int64(3001), object(1)\n",
            "memory usage: 118.5+ MB\n",
            "None\n",
            "\n",
            "\n",
            "Shape of dataset (5172, 3002)\n",
            "\n",
            "\n",
            "Email No.     0\n",
            "the           0\n",
            "to            0\n",
            "ect           0\n",
            "and           0\n",
            "             ..\n",
            "military      0\n",
            "allowing      0\n",
            "ff            0\n",
            "dry           0\n",
            "Prediction    0\n",
            "Length: 3002, dtype: int64\n",
            "\n",
            "\n"
          ]
        }
      ]
    },
    {
      "cell_type": "code",
      "source": [
        "x = spam.iloc[:,1:3001]\n",
        "print('Spape of Original Dataframe: ', spam.shape)\n",
        "print('Shape of x variable: ',x.shape)\n",
        "\n",
        "y = spam.iloc[:,-1].values\n",
        "print('Shape of y variable: ', y.shape)\n"
      ],
      "metadata": {
        "colab": {
          "base_uri": "https://localhost:8080/"
        },
        "id": "zHwy8xvBcUL4",
        "outputId": "23c18a2f-32c1-4a15-d3c4-0373da19b9aa"
      },
      "execution_count": null,
      "outputs": [
        {
          "output_type": "stream",
          "name": "stdout",
          "text": [
            "Spape of Original Dataframe:  (5172, 3002)\n",
            "Shape of x variable:  (5172, 3000)\n",
            "Shape of y variable:  (5172,)\n"
          ]
        }
      ]
    },
    {
      "cell_type": "markdown",
      "source": [
        "# Confusion Matrix for Performance Comparison\n",
        "\n",
        "Confusion Matrix is the visual representation of the Actual VS Predicted values. It measures the performance of our Machine Learning classification model and looks like a table-like structure.\n",
        "\n",
        "This is how a Confusion Matrix of a binary classification problem looks like :\n",
        "![confusion-matrix-1.webp](data:image/webp;base64,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)\n",
        "\n",
        "It represents the different combinations of Actual VS Predicted values. Let’s define them one by one.\n",
        "\n",
        "TP: True Positive: The values which were actually positive and were predicted positive.\n",
        "\n",
        "FP: False Positive: The values which were actually negative but falsely predicted as positive. Also known as Type I Error.\n",
        "\n",
        "FN: False Negative: The values which were actually positive but falsely predicted as negative. Also known as Type II Error.\n",
        "\n",
        "TN: True Negative: The values which were actually negative and were predicted negative.\n",
        "\n",
        "Accuracy:\n",
        "It is calculated by dividing the total number of correct predictions by all the predictions.\n",
        "\n",
        "![image.png](data:image/png;base64,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)\n",
        "\n",
        "Recall / Sensitivity:\n",
        "The recall is the measure to check correctly positive predicted outcomes out of the total number of positive outcomes.\n",
        "\n",
        "![image.png](data:image/png;base64,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)\n",
        "\n",
        "Precision:\n",
        "Precision checks how many outcomes are actually positive outcomes out of the total positively predicted outcomes.\n",
        "\n",
        "![image.png](data:image/png;base64,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)"
      ],
      "metadata": {
        "id": "OeOdp420oDrj"
      }
    },
    {
      "cell_type": "markdown",
      "source": [
        "# Creating training and testing dataset\n",
        "\n",
        "Taking 75% data for training and 25% data for testing."
      ],
      "metadata": {
        "id": "MUVG2AIFek4j"
      }
    },
    {
      "cell_type": "code",
      "source": [
        "from sklearn.model_selection import train_test_split\n",
        "train_x,test_x,train_y,test_y = train_test_split(x,y,test_size = 0.25)"
      ],
      "metadata": {
        "id": "sAAfsgYxepPh"
      },
      "execution_count": null,
      "outputs": []
    },
    {
      "cell_type": "markdown",
      "source": [
        "# Naive Bayes\n",
        "\n",
        "Naïve Bayes Classifier is one of the simple and most effective Classification algorithms which helps in building the fast machine learning models that can make quick predictions. It is a probabilistic classifier, which means it predicts on the basis of the probability of an object.\n"
      ],
      "metadata": {
        "id": "lC7WGI-Jaz6u"
      }
    },
    {
      "cell_type": "markdown",
      "source": [
        "# Building and Training Naive Bayes Model"
      ],
      "metadata": {
        "id": "DAn6eMyjfAYJ"
      }
    },
    {
      "cell_type": "code",
      "source": [
        "from sklearn.naive_bayes import MultinomialNB\n",
        "from sklearn.metrics import precision_score\n",
        "from sklearn.metrics import recall_score\n",
        "from sklearn.metrics import accuracy_score\n",
        "from sklearn.metrics import mean_squared_error as mse\n",
        "from sklearn.metrics import r2_score as r2\n",
        "from sklearn.metrics import confusion_matrix as cm\n",
        "\n",
        "mnb = MultinomialNB(alpha=1.9)\n",
        "mnb.fit(train_x,train_y)"
      ],
      "metadata": {
        "colab": {
          "base_uri": "https://localhost:8080/"
        },
        "id": "oN_Hr-70fEAC",
        "outputId": "ff645c85-0d65-44ee-e14e-ad2d5f324c2d"
      },
      "execution_count": null,
      "outputs": [
        {
          "output_type": "execute_result",
          "data": {
            "text/plain": [
              "MultinomialNB(alpha=1.9)"
            ]
          },
          "metadata": {},
          "execution_count": 41
        }
      ]
    },
    {
      "cell_type": "markdown",
      "source": [
        "# Making Predictions and Evaluation Metrics"
      ],
      "metadata": {
        "id": "T5GTVQgLf0lJ"
      }
    },
    {
      "cell_type": "code",
      "source": [
        "y_prednb = mnb.predict(test_x)\n",
        "print(\"Confusion Matrix for Naive Bayes : \\n\", cm(y_prednb,test_y), '\\n')\n",
        "print(\"Precision Score for Naive Bayes : \", precision_score(y_prednb,test_y), '\\n')\n",
        "print(\"Recall Score for Naive Bayes : \", recall_score(y_prednb,test_y), '\\n')\n",
        "print(\"Accuracy Score for Naive Bayes : \", accuracy_score(y_prednb,test_y), '\\n')\n",
        "print(\"RMSE Score for Naive Bayes : \", mse(y_prednb,test_y), '\\n')\n",
        "print(\"R2 Score for Naive Bayes : \", r2(y_prednb,test_y), '\\n')"
      ],
      "metadata": {
        "colab": {
          "base_uri": "https://localhost:8080/"
        },
        "id": "Ta9LGHflf6Mk",
        "outputId": "ad09b95b-0fbc-4100-dbb7-9c2cbe7e55e9"
      },
      "execution_count": null,
      "outputs": [
        {
          "output_type": "stream",
          "name": "stdout",
          "text": [
            "Confusion Matrix for Naive Bayes : \n",
            " [[839  20]\n",
            " [ 64 370]] \n",
            "\n",
            "Precision Score for Naive Bayes :  0.9487179487179487 \n",
            "\n",
            "Recall Score for Naive Bayes :  0.8525345622119815 \n",
            "\n",
            "Accuracy Score for Naive Bayes :  0.9350348027842227 \n",
            "\n",
            "RMSE Score for Naive Bayes :  0.06496519721577726 \n",
            "\n",
            "R2 Score for Naive Bayes :  0.7086634871756355 \n",
            "\n"
          ]
        }
      ]
    },
    {
      "cell_type": "markdown",
      "source": [
        "# SVC(Support Vector Machine)\n",
        "\n",
        "Support Vector Machine or SVM is one of the most popular Supervised Learning algorithms, which is used for Classification as well as Regression problems. However, primarily, it is used for Classification problems in Machine Learning.\n",
        "\n",
        "The goal of the SVM algorithm is to create the best line or decision boundary that can segregate n-dimensional space into classes so that we can easily put the new data point in the correct category in the future. This best decision boundary is called a hyperplane."
      ],
      "metadata": {
        "id": "TGLb7Z-bg1Kh"
      }
    },
    {
      "cell_type": "markdown",
      "source": [
        "# Building and Training SVM Model"
      ],
      "metadata": {
        "id": "d8KZplj4hFx0"
      }
    },
    {
      "cell_type": "code",
      "source": [
        "from sklearn.svm import SVC\n",
        "\n",
        "svc = SVC(C=1.0,kernel='rbf',gamma='auto')\n",
        "svc.fit(train_x,train_y)"
      ],
      "metadata": {
        "colab": {
          "base_uri": "https://localhost:8080/"
        },
        "id": "rUQroERNhNFa",
        "outputId": "fe121e2c-cc63-4a43-aa5c-28ec7e60e668"
      },
      "execution_count": null,
      "outputs": [
        {
          "output_type": "execute_result",
          "data": {
            "text/plain": [
              "SVC(gamma='auto')"
            ]
          },
          "metadata": {},
          "execution_count": 35
        }
      ]
    },
    {
      "cell_type": "markdown",
      "source": [
        "# Making Predictions and Evaluation Metrics"
      ],
      "metadata": {
        "id": "i5Z7AhJGiS5-"
      }
    },
    {
      "cell_type": "code",
      "source": [
        "y_predsvm = svc.predict(test_x)\n",
        "print(\"Confusion Matrix for SVM : \\n\", cm(y_predsvm,test_y), '\\n')\n",
        "print(\"Precision Score for SVM : \", precision_score(y_predsvm,test_y), '\\n')\n",
        "print(\"Recall Score for SVM : \", recall_score(y_predsvm,test_y), '\\n')\n",
        "print(\"Accuracy Score for SVM : \", accuracy_score(y_predsvm,test_y), '\\n')\n",
        "print(\"RMSE Score for SVM : \", mse(y_predsvm,test_y), '\\n')\n",
        "print(\"R2 Score for SVM : \", r2(y_predsvm,test_y), '\\n')"
      ],
      "metadata": {
        "colab": {
          "base_uri": "https://localhost:8080/"
        },
        "id": "aOk8qwPKiT4Q",
        "outputId": "c3a83992-e6ec-4251-f655-cead5c43ed2b"
      },
      "execution_count": null,
      "outputs": [
        {
          "output_type": "stream",
          "name": "stdout",
          "text": [
            "Confusion Matrix for SVM : \n",
            " [[876  98]\n",
            " [ 27 292]] \n",
            "\n",
            "Precision Score for SVM :  0.7487179487179487 \n",
            "\n",
            "Recall Score for SVM :  0.9153605015673981 \n",
            "\n",
            "Accuracy Score for SVM :  0.9033255993812839 \n",
            "\n",
            "RMSE Score for SVM :  0.09667440061871617 \n",
            "\n",
            "R2 Score for SVM :  0.47981371457261845 \n",
            "\n"
          ]
        }
      ]
    },
    {
      "cell_type": "markdown",
      "source": [
        "# Random Forest(Bagging)\n",
        "\n",
        "Ensemble learning is a widely-used and preferred machine learning technique in which multiple individual models, often called base models, are combined to produce an effective optimal prediction model. **Bagging and Random Forest** algorithm are examples of ensemble learning.\n",
        "\n",
        "# Random Forest\n",
        "Random forest is an ensemble model using bagging as the ensemble method and decision tree as the individual model."
      ],
      "metadata": {
        "id": "XweqVyoti1Cr"
      }
    },
    {
      "cell_type": "markdown",
      "source": [
        "# Building and training Random Forest model"
      ],
      "metadata": {
        "id": "7lo57BDAjO6U"
      }
    },
    {
      "cell_type": "code",
      "source": [
        "from sklearn.ensemble import RandomForestClassifier\n",
        "\n",
        "rfc = RandomForestClassifier(n_estimators=100,criterion='gini')\n",
        "rfc.fit(train_x,train_y)"
      ],
      "metadata": {
        "colab": {
          "base_uri": "https://localhost:8080/"
        },
        "id": "4-gX7iQxjYFc",
        "outputId": "41ab1a18-8f1a-4c9d-88fd-9f196f3f3480"
      },
      "execution_count": null,
      "outputs": [
        {
          "output_type": "execute_result",
          "data": {
            "text/plain": [
              "RandomForestClassifier()"
            ]
          },
          "metadata": {},
          "execution_count": 37
        }
      ]
    },
    {
      "cell_type": "markdown",
      "source": [
        "# Making Predictions and Evaluation Metrics"
      ],
      "metadata": {
        "id": "Xw37puesjkFJ"
      }
    },
    {
      "cell_type": "code",
      "source": [
        "y_predrf = rfc.predict(test_x)\n",
        "print(\"Confusion Matrix for Random Forest : \\n\", cm(y_predrf,test_y), '\\n')\n",
        "print(\"Precision Score for Random Forest : \", precision_score(y_predrf,test_y), '\\n')\n",
        "print(\"Recall Score for Random Forest : \", recall_score(y_predrf,test_y), '\\n')\n",
        "print(\"Accuracy Score for Random Forest : \", accuracy_score(y_predrf,test_y), '\\n')\n",
        "print(\"RMSE Score for Random Forest : \", mse(y_predrf,test_y), '\\n')\n",
        "print(\"R2 Score for Random Forest : \", r2(y_predrf,test_y), '\\n')"
      ],
      "metadata": {
        "colab": {
          "base_uri": "https://localhost:8080/"
        },
        "id": "0506DmQljyBi",
        "outputId": "2bc613ef-38db-4dd0-f0d6-fc88105aa6c8"
      },
      "execution_count": null,
      "outputs": [
        {
          "output_type": "stream",
          "name": "stdout",
          "text": [
            "Confusion Matrix for Random Forest : \n",
            " [[887  20]\n",
            " [ 16 370]] \n",
            "\n",
            "Precision Score for Random Forest :  0.9487179487179487 \n",
            "\n",
            "Recall Score for Random Forest :  0.9585492227979274 \n",
            "\n",
            "Accuracy Score for Random Forest :  0.9721577726218097 \n",
            "\n",
            "RMSE Score for Random Forest :  0.027842227378190254 \n",
            "\n",
            "R2 Score for Random Forest :  0.8670444613284128 \n",
            "\n"
          ]
        }
      ]
    },
    {
      "cell_type": "markdown",
      "source": [
        "# Making a Dataframe for Comparison"
      ],
      "metadata": {
        "id": "7gPqRuCRz731"
      }
    },
    {
      "cell_type": "code",
      "source": [
        "matrix= {\n",
        "    'Model': ['Naive Bayes', 'SVM', 'Random Forest'],\n",
        "    'Precision': [0.9487179487179487,0.7487179487179487,0.9487179487179487],\n",
        "    'Recall': [0.8525345622119815,0.9153605015673981,0.9585492227979274],\n",
        "    'Accuracy': [0.9350348027842227,0.9033255993812839,0.9721577726218097],\n",
        "    'RMSE': [0.06496519721577726,0.09667440061871617,0.027842227378190254],\n",
        "    'R2': [0.7086634871756355,0.47981371457261845,0.8670444613284128]\n",
        "}\n",
        "\n",
        "data = pd.DataFrame(matrix)\n",
        "print(data)"
      ],
      "metadata": {
        "colab": {
          "base_uri": "https://localhost:8080/"
        },
        "id": "6EwiEUsp0E9l",
        "outputId": "0123d09c-d417-4e48-d5dc-6e17b712f292"
      },
      "execution_count": null,
      "outputs": [
        {
          "output_type": "stream",
          "name": "stdout",
          "text": [
            "           Model  Precision    Recall  Accuracy      RMSE        R2\n",
            "0    Naive Bayes   0.948718  0.852535  0.935035  0.064965  0.708663\n",
            "1            SVM   0.748718  0.915361  0.903326  0.096674  0.479814\n",
            "2  Random Forest   0.948718  0.958549  0.972158  0.027842  0.867044\n"
          ]
        }
      ]
    },
    {
      "cell_type": "markdown",
      "source": [
        "# PLotting the Data"
      ],
      "metadata": {
        "id": "LsYwTXzH2dGC"
      }
    },
    {
      "cell_type": "code",
      "source": [
        "import seaborn as sns\n",
        "import matplotlib.pyplot as plt\n",
        "\n",
        "fig, axes = plt.subplots(3, 2, figsize=(19,10))\n",
        "fig.subplots_adjust(hspace=0.500, wspace=0.300)\n",
        "\n",
        "\n",
        "pre=sns.barplot(data=data, x='Model', y='Precision', ax=axes[0, 0])\n",
        "acc= sns.barplot(data=data, x='Model', y='Accuracy', ax=axes[0, 1])\n",
        "re= sns.barplot(data=data, x='Model', y='Recall', ax=axes[1, 0])\n",
        "rmse= sns.barplot(data=data, x='Model', y='RMSE', ax=axes[1, 1])\n",
        "r2= sns.barplot(data=data, x='Model', y='R2', ax=axes[2, 0])\n",
        "\n",
        "for bar in pre.patches:\n",
        "    pre.annotate(format(bar.get_height(), '.3f'),\n",
        "                   (bar.get_x() + bar.get_width() / 2,\n",
        "                    bar.get_height()), ha='center', va='center',\n",
        "                   size=10, xytext=(0, 5),\n",
        "                   textcoords='offset points')\n",
        "\n",
        "\n",
        "for bar in acc.patches:\n",
        "    acc.annotate(format(bar.get_height(), '.3f'),\n",
        "                   (bar.get_x() + bar.get_width() / 2,\n",
        "                    bar.get_height()), ha='center', va='center',\n",
        "                   size=10, xytext=(0, 5),\n",
        "                   textcoords='offset points')\n",
        "    \n",
        "for bar in re.patches:\n",
        "    re.annotate(format(bar.get_height(), '.3f'),\n",
        "                   (bar.get_x() + bar.get_width() / 2,\n",
        "                    bar.get_height()), ha='center', va='center',\n",
        "                   size=10, xytext=(0, 5),\n",
        "                   textcoords='offset points')\n",
        "    \n",
        "for bar in rmse.patches:\n",
        "    rmse.annotate(format(bar.get_height(), '.3f'),\n",
        "                   (bar.get_x() + bar.get_width() / 2,\n",
        "                    bar.get_height()), ha='center', va='center',\n",
        "                   size=10, xytext=(0, 5),\n",
        "                   textcoords='offset points')\n",
        "    \n",
        "for bar in r2.patches:\n",
        "    r2.annotate(format(bar.get_height(), '.3f'),\n",
        "                   (bar.get_x() + bar.get_width() / 2,\n",
        "                    bar.get_height()), ha='center', va='center',\n",
        "                   size=10, xytext=(0, 5),\n",
        "                   textcoords='offset points')"
      ],
      "metadata": {
        "colab": {
          "base_uri": "https://localhost:8080/",
          "height": 615
        },
        "id": "cUW5h1dc6Iaf",
        "outputId": "87a4bef6-1f85-4e60-e2e4-3d07f63fb21e"
      },
      "execution_count": null,
      "outputs": [
        {
          "output_type": "display_data",
          "data": {
            "text/plain": [
              "<Figure size 1368x720 with 6 Axes>"
            ],
            "image/png": "[encoded data removed]"
          },
          "metadata": {}
        }
      ]
    },
    {
      "cell_type": "markdown",
      "source": [
        "# Conclusion\n",
        "\n",
        "From the above plots we can make following inferences:\n",
        "\n",
        "Max. Precision: Naive Bayes or Random Forest\n",
        "\n",
        "Max. Accuracy: Random Forest\n",
        "\n",
        "Max. Recall: Random Forest\n",
        "\n",
        "Max. RMSE: SVM\n",
        "\n",
        "Max. R2: Random Forest\n",
        "\n",
        "Hence, from the above inference we can say that Random Forest will be a very optimal algorithm for Spam Filtering."
      ],
      "metadata": {
        "id": "1W3k9cbfCZrU"
      }
    }
  ]
}